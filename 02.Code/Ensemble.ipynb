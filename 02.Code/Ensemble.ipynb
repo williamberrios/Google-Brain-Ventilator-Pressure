{
 "cells": [
  {
   "cell_type": "code",
   "execution_count": 79,
   "metadata": {},
   "outputs": [],
   "source": [
    "import pandas as pd\n",
    "import os\n",
    "import numpy as np\n",
    "from tqdm.notebook import tqdm\n",
    "from sklearn.metrics import mean_absolute_error\n",
    "MODEL_PATH = '../03.SavedModels'\n",
    "MODEL_NAMES = ['baseline_lstm_v7','baseline_lstm_v8']\n",
    "MODE_ENSEMBLE = 'mean'"
   ]
  },
  {
   "cell_type": "code",
   "execution_count": 80,
   "metadata": {},
   "outputs": [
    {
     "data": {
      "application/vnd.jupyter.widget-view+json": {
       "model_id": "cc7295cfd5504ed8806f8e8fd5762b30",
       "version_major": 2,
       "version_minor": 0
      },
      "text/plain": [
       "HBox(children=(FloatProgress(value=0.0, max=2.0), HTML(value='')))"
      ]
     },
     "metadata": {},
     "output_type": "display_data"
    },
    {
     "name": "stdout",
     "output_type": "stream",
     "text": [
      "========== OOF METRIC: baseline_lstm_v7 ========\n",
      "0.17184925552389443\n",
      "========== OOF METRIC: baseline_lstm_v8 ========\n",
      "0.19504527290441698\n",
      "\n"
     ]
    }
   ],
   "source": [
    "oof_list   = []\n",
    "preds_list = []\n",
    "train_df = pd.read_csv('../01.Data/train_folds.csv')[['id','pressure','u_out']]\n",
    "test_df  = pd.read_csv('../01.Data/test.csv')[['id','u_out']]\n",
    "\n",
    "for name in tqdm(MODEL_NAMES):    \n",
    "    oof_df  = pd.read_csv(os.path.join(MODEL_PATH,name,'oof_preds.csv')).sort_values(by = ['id'])\n",
    "    pred_df = pd.read_csv(os.path.join(MODEL_PATH,name,'test_preds.csv')).sort_values(by = ['id']) \n",
    "    oof_df = train_df.merge(oof_df,how = 'left',on = ['id']).sort_values(by = ['id']).fillna(-1)\n",
    "    pred_df = test_df.merge(pred_df,how = 'left',on = ['id']).sort_values(by = ['id']).fillna(-1)\n",
    "    \n",
    "    print(f\"========== OOF METRIC: {name} ========\")\n",
    "    tmp = oof_df.loc[oof_df['u_out']==0]\n",
    "    print(mean_absolute_error(tmp.oof,tmp.pressure))\n",
    "        \n",
    "    oof_list.append(oof_df.oof.values)\n",
    "    preds_list.append(pred_df.preds.values)\n",
    "    del tmp,oof_df,pred_df"
   ]
  },
  {
   "cell_type": "code",
   "execution_count": 81,
   "metadata": {},
   "outputs": [
    {
     "name": "stdout",
     "output_type": "stream",
     "text": [
      "===== ENSEMBLE MEAN =====\n",
      "0.16947476477255635\n"
     ]
    }
   ],
   "source": [
    "if MODE_ENSEMBLE == 'mean':\n",
    "    oof_ens   = np.mean(np.vstack(oof_list),axis = 0)\n",
    "    preds_ens = np.mean(np.vstack(preds_list),axis = 0)\n",
    "elif MODE_ENSEMBLE == 'median':\n",
    "    oof_ens   = np.median(np.vstack(oof_list),axis = 0)\n",
    "    preds_ens = np.median(np.vstack(preds_list),axis = 0)\n",
    "print(f\"{'='*5} ENSEMBLE MEAN {'='*5}\")\n",
    "train_df['oof'] = oof_ens\n",
    "tmp = train_df.loc[train_df['u_out']==0]\n",
    "print(mean_absolute_error(tmp.oof,tmp.pressure))\n",
    "test_df['pressure'] = preds_ens\n",
    "test_df = test_df[['id','pressure']]"
   ]
  },
  {
   "cell_type": "code",
   "execution_count": 70,
   "metadata": {},
   "outputs": [],
   "source": [
    "test_df.to_csv('submission_simple_ensemble.csv',index = False)"
   ]
  }
 ],
 "metadata": {
  "kernelspec": {
   "display_name": "Python 3",
   "language": "python",
   "name": "python3"
  },
  "language_info": {
   "codemirror_mode": {
    "name": "ipython",
    "version": 3
   },
   "file_extension": ".py",
   "mimetype": "text/x-python",
   "name": "python",
   "nbconvert_exporter": "python",
   "pygments_lexer": "ipython3",
   "version": "3.6.9"
  }
 },
 "nbformat": 4,
 "nbformat_minor": 4
}
