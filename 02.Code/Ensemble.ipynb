{
 "cells": [
  {
   "cell_type": "markdown",
   "metadata": {},
   "source": [
    "## TO DO\n",
    "+ Test:\n",
    "MODEL_NAMES = {'baseline_lstm_v17':[None,600,550],'baseline_lstm_v15':[None],'baseline_lstm_v18':[None]}\n",
    "with median ensemble\n",
    "+ Test best model:\n",
    "    with kernels free and median"
   ]
  },
  {
   "cell_type": "code",
   "execution_count": null,
   "metadata": {},
   "outputs": [],
   "source": [
    "# MODEL_NAMES = {'baseline_lstm_v17':[None,600,550],'baseline_lstm_v15':[None],'baseline_lstm_v18':[None]}\n",
    "# MODEL_NAMES = {'baseline_lstm_v17':[None,600,550],'baseline_lstm_v15':[None],'baseline_lstm_v18':[None,200]} 0.14210225998371193\n"
   ]
  },
  {
   "cell_type": "code",
   "execution_count": 1,
   "metadata": {},
   "outputs": [],
   "source": [
    "import pandas as pd\n",
    "import os\n",
    "import numpy as np\n",
    "from tqdm.notebook import tqdm\n",
    "from sklearn.metrics import mean_absolute_error\n",
    "from scipy.optimize import minimize\n",
    "MODEL_PATH = '../03.SavedModels'\n",
    "DATA_PATH  = '../01.Data/'\n",
    "#MODEL_NAMES = {'baseline_lstm_v17':[None,550],'baseline_lstm_v15':[None]}\n",
    "MODEL_NAMES = {'baseline_lstm_v17':[None,600,550],'baseline_lstm_v15':[None],'baseline_lstm_v18':[None,200]}\n",
    "MODE_ENSEMBLE = 'median'\n",
    "PREDICTION_ROUNDED = False\n",
    "METHOD_ROUNDING = 2"
   ]
  },
  {
   "cell_type": "code",
   "execution_count": 2,
   "metadata": {},
   "outputs": [],
   "source": [
    "def post_processing(df,press_min,press_step,press_max,col = 'pressure',method = 1):\n",
    "    if method == 1:\n",
    "        # ENSEMBLE FOLDS WITH MEDIAN AND ROUND PREDICTIONS\n",
    "        df[col] =np.round( (df[col] - press_min)/press_step )* press_step + press_min\n",
    "        df[col] = np.clip(df[col], press_min, press_max)\n",
    "        return df\n",
    "    elif method ==2:\n",
    "        df[col] = df[col].apply(find_nearest)\n",
    "        return df\n",
    "    elif methos is None:\n",
    "        return df\n",
    "def find_nearest(prediction):\n",
    "    insert_idx = np.searchsorted(sorted_pressures, prediction)\n",
    "    if insert_idx == total_pressures_len:\n",
    "        return sorted_pressures[-1]\n",
    "    elif insert_idx == 0:\n",
    "        return sorted_pressures[0]\n",
    "    lower_val = sorted_pressures[insert_idx - 1]\n",
    "    upper_val = sorted_pressures[insert_idx]\n",
    "    return lower_val if abs(lower_val - prediction) < abs(upper_val - prediction) else upper_val\n",
    "\n",
    "def calculate_metric(df,pred = 'oof',target = 'pressure'):\n",
    "    tmp = df.loc[df['u_out']==0].copy().reset_index(drop = True)\n",
    "    return mean_absolute_error(tmp[pred],tmp[target])"
   ]
  },
  {
   "cell_type": "code",
   "execution_count": 3,
   "metadata": {},
   "outputs": [
    {
     "name": "stdout",
     "output_type": "stream",
     "text": [
      "CPU times: user 2.99 s, sys: 548 ms, total: 3.53 s\n",
      "Wall time: 3.53 s\n"
     ]
    }
   ],
   "source": [
    "%%time\n",
    "train_df = pd.read_csv(os.path.join(DATA_PATH,'train_folds.csv'))\n",
    "## Post Processing 1:\n",
    "all_pressure = np.sort( train_df.pressure.unique() )\n",
    "press_min    = all_pressure[0]\n",
    "press_max    = all_pressure[-1]\n",
    "press_step   = ( all_pressure[1] - all_pressure[0] )\n",
    "\n",
    "# Post processing 2:\n",
    "unique_pressures = train_df[\"pressure\"].unique()\n",
    "sorted_pressures = np.sort(unique_pressures)\n",
    "total_pressures_len = len(sorted_pressures)"
   ]
  },
  {
   "cell_type": "code",
   "execution_count": 132,
   "metadata": {},
   "outputs": [
    {
     "data": {
      "application/vnd.jupyter.widget-view+json": {
       "model_id": "9a2cdfc85b7d47f6999f1572439806c2",
       "version_major": 2,
       "version_minor": 0
      },
      "text/plain": [
       "HBox(children=(FloatProgress(value=0.0, max=3.0), HTML(value='')))"
      ]
     },
     "metadata": {},
     "output_type": "display_data"
    },
    {
     "name": "stdout",
     "output_type": "stream",
     "text": [
      "========== OOF METRIC: baseline_lstm_v17 - checkpoint[None] ========\n",
      "MAE-ORIGIN:0.15254106207925197\n",
      "========== OOF METRIC: baseline_lstm_v17 - checkpoint[600] ========\n",
      "MAE-ORIGIN:0.153219068885379\n",
      "========== OOF METRIC: baseline_lstm_v17 - checkpoint[550] ========\n",
      "MAE-ORIGIN:0.15387579998538162\n",
      "========== OOF METRIC: baseline_lstm_v15 - checkpoint[None] ========\n",
      "MAE-ORIGIN:0.1611637197607971\n",
      "========== OOF METRIC: baseline_lstm_v18 - checkpoint[None] ========\n",
      "MAE-ORIGIN:0.15781139021428742\n",
      "========== OOF METRIC: baseline_lstm_v18 - checkpoint[200] ========\n",
      "MAE-ORIGIN:0.1584061861926046\n",
      "\n"
     ]
    }
   ],
   "source": [
    "## =============================================\n",
    "## Loading test predictions and OOF predictions\n",
    "## =============================================\n",
    "\n",
    "oof_list   = []\n",
    "preds_list = []\n",
    "oof_values = []\n",
    "train_df = pd.read_csv('../01.Data/train_folds.csv')[['id','pressure','u_out']]\n",
    "test_df  = pd.read_csv('../01.Data/test.csv')[['id','u_out']]\n",
    "\n",
    "for name in tqdm(MODEL_NAMES.keys()):\n",
    "    for checkpoint in MODEL_NAMES[name]:\n",
    "        if checkpoint is not None:\n",
    "            oof_df  = pd.read_csv(os.path.join(MODEL_PATH,name,f'oof_preds_epoch_{checkpoint}.csv')).sort_values(by = ['id'])\n",
    "            pred_df = pd.read_csv(os.path.join(MODEL_PATH,name,f'test_preds_epoch_{checkpoint}_median.csv')).sort_values(by = ['id']) \n",
    "            oof_df = train_df.merge(oof_df,how = 'left',on = ['id']).sort_values(by = ['id']).fillna(-1)\n",
    "            pred_df = test_df.merge(pred_df,how = 'left',on = ['id']).sort_values(by = ['id']).fillna(-1)\n",
    "            if PREDICTION_ROUNDED:\n",
    "                pred_df = post_processing(pred_df,press_min,press_step,press_max,col = 'preds',method = METHOD_ROUNDING)\n",
    "        else:\n",
    "            oof_df  = pd.read_csv(os.path.join(MODEL_PATH,name,'oof_preds.csv')).sort_values(by = ['id'])\n",
    "            pred_df = pd.read_csv(os.path.join(MODEL_PATH,name,'test_preds.csv')).sort_values(by = ['id']) \n",
    "            oof_df = train_df.merge(oof_df,how = 'left',on = ['id']).sort_values(by = ['id']).fillna(-1)\n",
    "            pred_df = test_df.merge(pred_df,how = 'left',on = ['id']).sort_values(by = ['id']).fillna(-1)\n",
    "            if PREDICTION_ROUNDED:\n",
    "                pred_df = post_processing(pred_df,press_min,press_step,press_max,col = 'preds',method = METHOD_ROUNDING)\n",
    "            \n",
    "        print(f\"========== OOF METRIC: {name} - checkpoint[{checkpoint}] ========\")\n",
    "        mae_original = calculate_metric(oof_df,pred = 'oof',target = 'pressure')\n",
    "        if PREDICTION_ROUNDED:\n",
    "            oof_df = post_processing(oof_df,press_min,press_step,press_max,col = 'oof',method = METHOD_ROUNDING)\n",
    "            mae_post = calculate_metric(oof_df,pred = 'oof',target = 'pressure')\n",
    "            print(f\"MAE-ORIGIN:{mae_original}, MAE_POST: {mae_post}\")\n",
    "            oof_values.append(mae_post)\n",
    "        else:\n",
    "            print(f\"MAE-ORIGIN:{mae_original}\")\n",
    "            oof_values.append(mae_original)\n",
    "            \n",
    "        oof_list.append(oof_df.oof.values) # With postprocessed values\n",
    "        preds_list.append(pred_df.preds.values)\n",
    "        del oof_df,pred_df"
   ]
  },
  {
   "cell_type": "markdown",
   "metadata": {},
   "source": [
    "## Ensembling with Scipy Optimize"
   ]
  },
  {
   "cell_type": "code",
   "execution_count": 133,
   "metadata": {},
   "outputs": [
    {
     "name": "stdout",
     "output_type": "stream",
     "text": [
      "X shape: (2290968, 6)\n",
      "y shape: (2290968,)\n",
      "OOF 0:  0.15254106207925197\n",
      "OOF 1:  0.153219068885379\n",
      "OOF 2:  0.15387579998538162\n",
      "OOF 3:  0.1611637197607971\n",
      "OOF 4:  0.15781139021428742\n",
      "OOF 5:  0.1584061861926046\n",
      "0.1459111927679058\n",
      "0.14591119192913757\n",
      "0.14591119193210592\n",
      "0.14591119193823995\n",
      "0.14591119197801608\n",
      "0.14591119197040028\n",
      "0.14591119197499322\n",
      "8.597421701067612\n",
      "8.597421877034986\n",
      "8.597421877032192\n",
      "8.597421877032621\n",
      "8.597421877052351\n",
      "8.59742187704223\n",
      "8.597421877042663\n",
      "0.14649754136864174\n",
      "0.1464975621168641\n",
      "0.1464975621191639\n",
      "0.14649756212547022\n",
      "0.14649756216658993\n",
      "0.1464975621590926\n",
      "0.14649756216339704\n",
      "0.1459103474921488\n",
      "0.14591034747340595\n",
      "0.1459103474763163\n",
      "0.14591034748247397\n",
      "0.14591034752229068\n",
      "0.14591034751464912\n",
      "0.14591034751924806\n",
      "0.14591034632537683\n",
      "0.1459103463031931\n",
      "0.14591034630610417\n",
      "0.14591034631226157\n",
      "0.14591034635207997\n",
      "0.14591034634443656\n",
      "0.1459103463490351\n",
      "0.14591034231714697\n",
      "0.14591034227360422\n",
      "0.1459103422765162\n",
      "0.14591034228266944\n",
      "0.1459103423224835\n",
      "0.14591034231483405\n",
      "0.14591034231943195\n",
      "0.14591031940244098\n",
      "0.14591031929048315\n",
      "0.1459103192933952\n",
      "0.1459103192995472\n",
      "0.14591031933933954\n",
      "0.14591031933170232\n",
      "0.14591031933629817\n",
      "0.14591025713853797\n",
      "0.14591025693140666\n",
      "0.14591025693432386\n",
      "0.14591025694048554\n",
      "0.14591025698026017\n",
      "0.1459102569726303\n",
      "0.14591025697721965\n",
      "0.1459100626370323\n",
      "0.14591006221311817\n",
      "0.14591006221604197\n",
      "0.1459100622221951\n",
      "0.14591006226190692\n",
      "0.14591006225425643\n",
      "0.1459100622588566\n",
      "0.14590963368424026\n",
      "0.14590963301834786\n",
      "0.14590963302129706\n",
      "0.14590963302743115\n",
      "0.1459096330670373\n",
      "0.14590963305939295\n",
      "0.1459096330639949\n",
      "0.14590816790171968\n",
      "0.14590816667729825\n",
      "0.1459081666802562\n",
      "0.14590816668639106\n",
      "0.14590816672559345\n",
      "0.14590816671798237\n",
      "0.1459081667225844\n",
      "0.14590510860834827\n",
      "0.14590510668025666\n",
      "0.1459051066832141\n",
      "0.14590510668935433\n",
      "0.1459051067276559\n",
      "0.14590510672006318\n",
      "0.1459051067246833\n",
      "0.14589677652166733\n",
      "0.1458967734632846\n",
      "0.14589677346620128\n",
      "0.14589677347236793\n",
      "0.14589677350800795\n",
      "0.14589677350041835\n",
      "0.14589677350503252\n",
      "0.14587813739473787\n",
      "0.14587813305326716\n",
      "0.14587813305621292\n",
      "0.1458781330622426\n",
      "0.14587813309259076\n",
      "0.1458781330849407\n",
      "0.1458781330895841\n",
      "0.14584171908254903\n",
      "0.14584171362798826\n",
      "0.14584171363084153\n",
      "0.14584171363680504\n",
      "0.1458417136552534\n",
      "0.14584171364759735\n",
      "0.14584171365227253\n",
      "0.14580109827576546\n",
      "0.14580109356179458\n",
      "0.14580109356453053\n",
      "0.14580109357030852\n",
      "0.14580109357604554\n",
      "0.14580109356818666\n",
      "0.1458010935728763\n",
      "0.14577279918217345\n",
      "0.1457727971520394\n",
      "0.14577279715468533\n",
      "0.14577279716021155\n",
      "0.14577279715637095\n",
      "0.1457727971481979\n",
      "0.14577279715292155\n",
      "0.1457675082786544\n",
      "0.14576750784519588\n",
      "0.14576750784781436\n",
      "0.14576750785333903\n",
      "0.14576750784986678\n",
      "0.1457675078416909\n",
      "0.14576750784638232\n",
      "0.1457670494683584\n",
      "0.14576704948011898\n",
      "0.14576704948273161\n",
      "0.14576704948825633\n",
      "0.14576704948621363\n",
      "0.14576704947808278\n",
      "0.14576704948275915\n",
      "0.14576704527274134\n",
      "0.14576704527443354\n",
      "0.14576704527704487\n",
      "0.14576704528257586\n",
      "0.14576704528073733\n",
      "0.14576704527260118\n",
      "0.1457670452772666\n",
      "0.14576704441249194\n",
      "0.1457670444060484\n",
      "0.1457670444086607\n",
      "0.1457670444141943\n",
      "0.14576704441237107\n",
      "0.1457670444042464\n",
      "0.14576704440891108\n",
      "      fun: 0.14576704441249194\n",
      " hess_inv: <6x6 LbfgsInvHessProduct with dtype=float64>\n",
      "      jac: array([-6.44354015e-04, -3.83124088e-04,  1.70236047e-04, -1.20875532e-05,\n",
      "       -8.24554314e-04, -3.58085783e-04])\n",
      "  message: b'CONVERGENCE: REL_REDUCTION_OF_F_<=_FACTR*EPSMCH'\n",
      "     nfev: 147\n",
      "      nit: 17\n",
      "   status: 0\n",
      "  success: True\n",
      "        x: array([0.19379984, 0.19059676, 0.18382056, 0.14001505, 0.14842525,\n",
      "       0.14336411])\n"
     ]
    }
   ],
   "source": [
    "indices = train_df[train_df['u_out']==0].index.values\n",
    "X = np.stack(oof_list,1)[indices]\n",
    "y = train_df['pressure'][indices]\n",
    "\n",
    "print(f'X shape: {X.shape}')\n",
    "print(f'y shape: {y.shape}')\n",
    "# Check correct \n",
    "for oof_idx in range(X.shape[1]):\n",
    "    print(f'OOF {oof_idx}: ',mean_absolute_error(X[:,oof_idx],y))    \n",
    "    \n",
    "x0 = np.array([1/X.shape[1]]*X.shape[1])\n",
    "# The cost function is just the ensemble's mean absolute error.\n",
    "def cost(x0):\n",
    "    a = np.mean(np.abs((y - np.sum(X*x0, -1))))\n",
    "    print(a)\n",
    "    return a\n",
    "bnds = tuple([(0,1)]*X.shape[1]) # Weights have to be between 0 and 1.\n",
    "cons = ({'type': 'eq', 'fun': lambda x:  1 - sum(x)}) # Sum of the weights will be 1.\n",
    "res = minimize(cost, x0, bounds=bnds,options = {'disp':True})\n",
    "print(res)"
   ]
  },
  {
   "cell_type": "code",
   "execution_count": 134,
   "metadata": {},
   "outputs": [
    {
     "name": "stdout",
     "output_type": "stream",
     "text": [
      "Weights: [0.19379984 0.19059676 0.18382056 0.14001505 0.14842525 0.14336411]\n",
      "MAE-ORIGIN:0.14576704441249194, MAE_POST: 0.1433893196827191\n"
     ]
    }
   ],
   "source": [
    "oof_final   = 0\n",
    "preds_final = 0\n",
    "print('Weights:',res.x)\n",
    "for (oof,preds,w) in zip(oof_list,preds_list,res.x):\n",
    "    oof_final   += oof*w\n",
    "    preds_final += preds*w\n",
    "    \n",
    "train_df['oof'] = oof_final\n",
    "tmp = train_df.loc[train_df['u_out']==0].reset_index(drop = True)\n",
    "mae_original = mean_absolute_error(tmp.oof,tmp.pressure)\n",
    "tmp = post_processing(tmp,press_min,press_step,press_max,col = 'oof',method = METHOD_ROUNDING)\n",
    "mae_post = mean_absolute_error(tmp.oof,tmp.pressure)\n",
    "print(f\"MAE-ORIGIN:{mae_original}, MAE_POST: {mae_post}\")"
   ]
  },
  {
   "cell_type": "code",
   "execution_count": 135,
   "metadata": {},
   "outputs": [],
   "source": [
    "test_df  = pd.read_csv('../01.Data/test.csv')[['id','u_out']]\n",
    "test_df['pressure'] = preds_final\n",
    "test_df      =  post_processing(test_df,press_min,press_step,press_max,col = 'pressure',method = METHOD_ROUNDING)\n",
    "test_df[['id','pressure']].to_csv('submission_simple_ensemble.csv',index = False)"
   ]
  },
  {
   "cell_type": "code",
   "execution_count": 136,
   "metadata": {},
   "outputs": [],
   "source": [
    "#1433"
   ]
  },
  {
   "cell_type": "code",
   "execution_count": 137,
   "metadata": {},
   "outputs": [
    {
     "data": {
      "text/plain": [
       "17.643945276435186"
      ]
     },
     "execution_count": 137,
     "metadata": {},
     "output_type": "execute_result"
    }
   ],
   "source": [
    "test_df[test_df['u_out']==0]['pressure'].mean()"
   ]
  },
  {
   "cell_type": "code",
   "execution_count": 138,
   "metadata": {},
   "outputs": [
    {
     "data": {
      "text/plain": [
       "17.596211347845607"
      ]
     },
     "execution_count": 138,
     "metadata": {},
     "output_type": "execute_result"
    }
   ],
   "source": [
    "train_df[train_df['u_out']==0]['pressure'].mean()"
   ]
  },
  {
   "cell_type": "markdown",
   "metadata": {},
   "source": [
    "## Ensembling with Scipy Optimize by RC"
   ]
  },
  {
   "cell_type": "code",
   "execution_count": 139,
   "metadata": {},
   "outputs": [
    {
     "data": {
      "text/plain": [
       "\"\\ncols= [] \\nfor it in range(len(oof_list)):\\n    #train_optim[f'oof_{it+1}'] = oof_list[it]\\n    #test_df[f'preds_{it+1}'] = preds_list[it]\\n    cols.append(f'oof_{it+1}')\\n\""
      ]
     },
     "execution_count": 139,
     "metadata": {},
     "output_type": "execute_result"
    }
   ],
   "source": [
    "train_optim = pd.read_csv('../01.Data/train_folds.csv')[['id','pressure','u_out','R','C']]\n",
    "train_optim['RC'] = train_optim['R'].astype(str) + '_' +  train_optim['C'].astype(str)\n",
    "test_df  = pd.read_csv('../01.Data/test.csv')[['id','u_out','R','C']]\n",
    "test_df['RC'] = test_df['R'].astype(str) + '_' +  test_df['C'].astype(str)\n",
    "\n",
    "'''\n",
    "cols= [] \n",
    "for it in range(len(oof_list)):\n",
    "    #train_optim[f'oof_{it+1}'] = oof_list[it]\n",
    "    #test_df[f'preds_{it+1}'] = preds_list[it]\n",
    "    cols.append(f'oof_{it+1}')\n",
    "'''\n",
    "    "
   ]
  },
  {
   "cell_type": "code",
   "execution_count": 140,
   "metadata": {},
   "outputs": [
    {
     "name": "stdout",
     "output_type": "stream",
     "text": [
      "===================== RC: 20_50========================\n",
      "      fun: 0.13040852286602353\n",
      " hess_inv: <6x6 LbfgsInvHessProduct with dtype=float64>\n",
      "      jac: array([-0.00160843, -0.00206154, -0.00117646,  0.00098668,  0.001335  ,\n",
      "        0.00108451])\n",
      "  message: b'CONVERGENCE: REL_REDUCTION_OF_F_<=_FACTR*EPSMCH'\n",
      "     nfev: 42\n",
      "      nit: 3\n",
      "   status: 0\n",
      "  success: True\n",
      "        x: array([0.16667769, 0.16667775, 0.16667763, 0.16667734, 0.16667729,\n",
      "       0.16667733])\n",
      "===================== RC: 20_20========================\n",
      "      fun: 0.13285028425089435\n",
      " hess_inv: <6x6 LbfgsInvHessProduct with dtype=float64>\n",
      "      jac: array([4.36628511e-04, 1.62625469e-04, 2.09068873e-04, 4.80643303e-05,\n",
      "       3.66284780e-04, 3.68713393e-04])\n",
      "  message: b'CONVERGENCE: REL_REDUCTION_OF_F_<=_FACTR*EPSMCH'\n",
      "     nfev: 259\n",
      "      nit: 31\n",
      "   status: 0\n",
      "  success: True\n",
      "        x: array([0.16312386, 0.22778813, 0.18828863, 0.11487266, 0.15072308,\n",
      "       0.15523355])\n",
      "===================== RC: 50_20========================\n",
      "      fun: 0.20798175492832832\n",
      " hess_inv: <6x6 LbfgsInvHessProduct with dtype=float64>\n",
      "      jac: array([-0.00121126,  0.00014528, -0.00046326,  0.00061071,  0.00231828,\n",
      "        0.00270746])\n",
      "  message: b'CONVERGENCE: REL_REDUCTION_OF_F_<=_FACTR*EPSMCH'\n",
      "     nfev: 42\n",
      "      nit: 3\n",
      "   status: 0\n",
      "  success: True\n",
      "        x: array([0.16665925, 0.16665913, 0.16665918, 0.16665908, 0.16665893,\n",
      "       0.1666589 ])\n",
      "===================== RC: 50_50========================\n",
      "      fun: 0.22013101941523616\n",
      " hess_inv: <6x6 LbfgsInvHessProduct with dtype=float64>\n",
      "      jac: array([-1.65888137e-03,  1.17616195e-03, -9.34891053e-05,  5.66828251e-03,\n",
      "        3.44574091e-03,  2.54061494e-03])\n",
      "  message: b'CONVERGENCE: REL_REDUCTION_OF_F_<=_FACTR*EPSMCH'\n",
      "     nfev: 35\n",
      "      nit: 2\n",
      "   status: 0\n",
      "  success: True\n",
      "        x: array([0.16666083, 0.16666054, 0.16666067, 0.16666007, 0.1666603 ,\n",
      "       0.1666604 ])\n",
      "===================== RC: 5_50========================\n",
      "      fun: 0.09269808987713636\n",
      " hess_inv: <6x6 LbfgsInvHessProduct with dtype=float64>\n",
      "      jac: array([ 1.95052308e-05, -6.60717314e-04, -1.31783473e-05,  3.88707400e-03,\n",
      "        2.20646695e-03,  2.12958540e-03])\n",
      "  message: b'CONVERGENCE: REL_REDUCTION_OF_F_<=_FACTR*EPSMCH'\n",
      "     nfev: 42\n",
      "      nit: 3\n",
      "   status: 0\n",
      "  success: True\n",
      "        x: array([0.16668429, 0.1666844 , 0.16668429, 0.16668363, 0.16668392,\n",
      "       0.16668393])\n",
      "===================== RC: 5_20========================\n",
      "      fun: 0.08858794194877778\n",
      " hess_inv: <6x6 LbfgsInvHessProduct with dtype=float64>\n",
      "      jac: array([-0.00246042, -0.00338106, -0.00199625,  0.00273462,  0.00224937,\n",
      "        0.00190285])\n",
      "  message: b'CONVERGENCE: REL_REDUCTION_OF_F_<=_FACTR*EPSMCH'\n",
      "     nfev: 35\n",
      "      nit: 2\n",
      "   status: 0\n",
      "  success: True\n",
      "        x: array([0.16667103, 0.16667111, 0.16667099, 0.1666706 , 0.16667064,\n",
      "       0.16667067])\n",
      "===================== RC: 50_10========================\n",
      "      fun: 0.14523053937985503\n",
      " hess_inv: <6x6 LbfgsInvHessProduct with dtype=float64>\n",
      "      jac: array([-0.00142009, -0.00062245,  0.00088668,  0.00454371,  0.002284  ,\n",
      "        0.0041345 ])\n",
      "  message: b'CONVERGENCE: REL_REDUCTION_OF_F_<=_FACTR*EPSMCH'\n",
      "     nfev: 42\n",
      "      nit: 3\n",
      "   status: 0\n",
      "  success: True\n",
      "        x: array([0.16667194, 0.16667183, 0.16667163, 0.16667113, 0.16667144,\n",
      "       0.16667119])\n",
      "===================== RC: 20_10========================\n",
      "      fun: 0.14260595484158753\n",
      " hess_inv: <6x6 LbfgsInvHessProduct with dtype=float64>\n",
      "      jac: array([-5.08689757e-03, -4.13879764e-03, -3.39008543e-03,  1.80198079e-03,\n",
      "       -1.28168864e-03, -2.00062189e-05])\n",
      "  message: b'CONVERGENCE: REL_REDUCTION_OF_F_<=_FACTR*EPSMCH'\n",
      "     nfev: 42\n",
      "      nit: 3\n",
      "   status: 0\n",
      "  success: True\n",
      "        x: array([0.16666252, 0.16666238, 0.16666226, 0.16666148, 0.16666194,\n",
      "       0.16666175])\n",
      "===================== RC: 5_10========================\n",
      "      fun: 0.14578774503271041\n",
      " hess_inv: <6x6 LbfgsInvHessProduct with dtype=float64>\n",
      "      jac: array([ 8.85275186e-04, -1.59960933e-04,  9.71597802e-04, -5.51239610e-04,\n",
      "       -4.01345623e-05,  1.29201649e-03])\n",
      "  message: b'CONVERGENCE: REL_REDUCTION_OF_F_<=_FACTR*EPSMCH'\n",
      "     nfev: 147\n",
      "      nit: 18\n",
      "   status: 0\n",
      "  success: True\n",
      "        x: array([0.20656232, 0.22088537, 0.2049549 , 0.14025071, 0.12267856,\n",
      "       0.10473614])\n"
     ]
    }
   ],
   "source": [
    "weights = []\n",
    "rc_list = []\n",
    "def cost(x0):\n",
    "    val = np.mean(np.abs((y - np.sum(X*x0, -1))))\n",
    "    return val\n",
    "for rc in train_optim['RC'].unique():\n",
    "    indices = train_optim[(train_optim['u_out']==0)&(train_optim['RC']==rc)].index.values\n",
    "    X = np.stack(oof_list,1)[indices]\n",
    "    y = train_df['pressure'][indices]\n",
    "    # The cost function is just the ensemble's mean absolute error.\n",
    "    x0 = np.array([1/X.shape[1]]*X.shape[1])\n",
    "    #x0[0] = 0.7\n",
    "    bnds = tuple([(0,1)]*X.shape[1]) # Weights have to be between 0 and 1.\n",
    "    cons = ({'type': 'eq', 'fun': lambda x:  1 - sum(x)}) # Sum of the weights will be 1.\n",
    "    res = minimize(cost, x0, bounds=bnds,options = {'disp':True})\n",
    "    print(f'===================== RC: {rc}========================')\n",
    "    rc_list.append((rc.split('_')[0],rc.split('_')[1]))\n",
    "    print(res)\n",
    "    weights.append(res.x)"
   ]
  },
  {
   "cell_type": "code",
   "execution_count": 141,
   "metadata": {},
   "outputs": [
    {
     "name": "stdout",
     "output_type": "stream",
     "text": [
      "R:20,C:50\n",
      "R:20,C:20\n",
      "R:50,C:20\n",
      "R:50,C:50\n",
      "R:5,C:50\n",
      "R:5,C:20\n",
      "R:50,C:10\n",
      "R:20,C:10\n",
      "R:5,C:10\n",
      "MAE-ORIGIN:0.1458358469337877, MAE_POST: 0.14342896684144105\n"
     ]
    }
   ],
   "source": [
    "for (R,C),w in zip(rc_list,weights):\n",
    "    print(f'R:{R},C:{C}')\n",
    "    ## Train\n",
    "    indices = train_optim[(train_optim['R']==int(R))&((train_optim['C']==int(C)))].index.values\n",
    "    train_optim.loc[indices,'oof'] = np.sum(np.stack(oof_list,1)[indices]*w,axis = -1)\n",
    "    ## Test\n",
    "    indices = test_df[(test_df['R']==int(R))&((test_df['C']==int(C)))].index.values\n",
    "    test_df.loc[indices,'pressure'] = np.sum(np.stack(preds_list,1)[indices]*w,axis = -1)\n",
    "    \n",
    "    \n",
    "tmp = train_optim.loc[train_optim['u_out']==0].reset_index(drop = True)\n",
    "mae_original = mean_absolute_error(tmp.oof,tmp.pressure)\n",
    "tmp = post_processing(tmp,press_min,press_step,press_max,col = 'oof',method = METHOD_ROUNDING)\n",
    "mae_post = mean_absolute_error(tmp.oof,tmp.pressure)\n",
    "print(f\"MAE-ORIGIN:{mae_original}, MAE_POST: {mae_post}\")"
   ]
  },
  {
   "cell_type": "code",
   "execution_count": 142,
   "metadata": {},
   "outputs": [],
   "source": [
    "#1431"
   ]
  },
  {
   "cell_type": "code",
   "execution_count": 143,
   "metadata": {},
   "outputs": [],
   "source": [
    "test_df = test_df[['id','pressure']]\n",
    "test_df      =  post_processing(test_df,press_min,press_step,press_max,col = 'pressure',method = METHOD_ROUNDING)\n",
    "test_df.to_csv('submission_weight_optimization_by_rc.csv',index = False)"
   ]
  },
  {
   "cell_type": "markdown",
   "metadata": {},
   "source": [
    "## Classical Ensembles"
   ]
  },
  {
   "cell_type": "markdown",
   "metadata": {},
   "source": [
    "### 1. Mean / Median Ensemble:"
   ]
  },
  {
   "cell_type": "code",
   "execution_count": 144,
   "metadata": {},
   "outputs": [
    {
     "name": "stdout",
     "output_type": "stream",
     "text": [
      "[array([ 5.80932856,  5.85838032,  7.97244024, ..., 25.43886375,\n",
      "       24.72276497, 21.76544571]), array([ 5.79564428,  5.84438467,  7.9414978 , ..., 25.68979454,\n",
      "       24.93735695, 21.94672966]), array([ 5.80444765,  5.84198475,  7.91970968, ..., 25.97400665,\n",
      "       24.96880341, 21.67961693]), array([ 5.78878021,  5.78226042,  7.96843767, ..., 21.47255707,\n",
      "       22.44314766, 20.43738174]), array([ 5.78895521,  5.83629751,  7.99543142, ..., 20.99167824,\n",
      "       22.38116074, 20.4294548 ]), array([ 5.78842354,  5.83482599,  8.00184345, ..., 20.99312401,\n",
      "       22.37973404, 20.42835999])]\n",
      "[array([ 6.2790966,  5.9550285,  7.129014 , ..., 15.029264 , 14.09877  ,\n",
      "       12.393284 ]), array([ 6.2731366,  5.955427 ,  7.130601 , ..., 15.058527 , 14.026571 ,\n",
      "       12.284483 ]), array([ 6.2774534,  5.943723 ,  7.1321554, ..., 15.104727 , 14.104841 ,\n",
      "       12.4517765]), array([ 6.275116 ,  5.9496193,  7.1220026, ..., 16.366173 , 16.01205  ,\n",
      "       15.254168 ]), array([ 6.264642 ,  5.963396 ,  7.1456246, ..., 16.176432 , 15.715437 ,\n",
      "       14.969733 ]), array([ 6.265746 ,  5.9609323,  7.1404896, ..., 16.162947 , 15.69956  ,\n",
      "       14.957272 ])]\n"
     ]
    }
   ],
   "source": [
    "print(oof_list)\n",
    "print(preds_list)"
   ]
  },
  {
   "cell_type": "code",
   "execution_count": 145,
   "metadata": {},
   "outputs": [
    {
     "name": "stdout",
     "output_type": "stream",
     "text": [
      "===== ENSEMBLE median =====\n",
      "MAE-ORIGIN:0.14448187883246522, MAE_POST: 0.14210225998371193\n"
     ]
    }
   ],
   "source": [
    "if MODE_ENSEMBLE == 'mean':\n",
    "    oof_ens   = np.mean(np.vstack(oof_list),axis = 0)\n",
    "    preds_ens = np.mean(np.vstack(preds_list),axis = 0)\n",
    "    \n",
    "elif MODE_ENSEMBLE == 'median':\n",
    "    oof_ens   = np.median(np.vstack(oof_list),axis = 0)\n",
    "    preds_ens = np.median(np.vstack(preds_list),axis = 0)\n",
    "\n",
    "print(f\"{'='*5} ENSEMBLE {MODE_ENSEMBLE} {'='*5}\")\n",
    "\n",
    "train_df['oof'] = oof_ens\n",
    "tmp = train_df.loc[train_df['u_out']==0].reset_index(drop = True)\n",
    "mae_original = mean_absolute_error(tmp.oof,tmp.pressure)\n",
    "tmp = post_processing(tmp,press_min,press_step,press_max,col = 'oof',method = METHOD_ROUNDING)\n",
    "mae_post = mean_absolute_error(tmp.oof,tmp.pressure)\n",
    "print(f\"MAE-ORIGIN:{mae_original}, MAE_POST: {mae_post}\")"
   ]
  },
  {
   "cell_type": "markdown",
   "metadata": {},
   "source": [
    "MODEL_NAMES = {'baseline_lstm_v17':[None],'baseline_lstm_v15':[None]}\n",
    "+ Ensemble-Mean, prediction_rounded-False: 0.14574096082939075"
   ]
  },
  {
   "cell_type": "markdown",
   "metadata": {},
   "source": [
    "MODEL_NAMES = {'baseline_lstm_v17':[None,600],'baseline_lstm_v15':[None]}\n",
    "+ Ensemble-Mean, prediction_rounded-False: 0.144987971680227\n",
    "+ Ensemble-Median, prediction_rounded-False: 0.1482044855214965"
   ]
  },
  {
   "cell_type": "markdown",
   "metadata": {},
   "source": [
    "MODEL_NAMES = {'baseline_lstm_v17':[None,600,550],'baseline_lstm_v15':[None]}\n",
    "+ Ensemble-Mean, prediction_rounded-False: 0.1452"
   ]
  },
  {
   "cell_type": "markdown",
   "metadata": {},
   "source": [
    "MODEL_NAMES = {'baseline_lstm_v17':[None,600,550,500],'baseline_lstm_v15':[None]}\n",
    "\n",
    "+ Ensemble-Median, prediction_rounded-False: 0.147524315805496\n",
    "+ Ensemble-Median, prediction_rounded-True: 0.1473297930971845\n",
    "+ Ensemble-Mean, prediction_rounded-True: 0.14633993365531525\n",
    "+ Ensemble-Mean, prediction_rounded-False: 0.14559185437100855"
   ]
  },
  {
   "cell_type": "markdown",
   "metadata": {},
   "source": [
    "MODEL_NAMES = {'baseline_lstm_v17':[None],'baseline_lstm_v15':[None]}\n",
    "+ Ensemble-Median, prediction_rounded-False: 0.14574096082939075\n",
    "+ Ensemble-Mean, prediction rounded-False: 0.14574096082939075\n",
    "+ Ensemble-mean, prediction_rounded-True: 0.147524315805496\n",
    "+ Ensemble-Median, prediction_rounded-True: 0.147524315805496 \n"
   ]
  },
  {
   "cell_type": "code",
   "execution_count": 146,
   "metadata": {},
   "outputs": [],
   "source": [
    "test_df['pressure'] = preds_ens\n",
    "test_df = test_df[['id','pressure']]\n",
    "test_df      =  post_processing(test_df,press_min,press_step,press_max,col = 'pressure',method = METHOD_ROUNDING)\n",
    "test_df.to_csv('submission_simple_ensemble.csv',index = False)"
   ]
  },
  {
   "cell_type": "markdown",
   "metadata": {},
   "source": [
    "### 2. Ensemble with Free Kernels"
   ]
  },
  {
   "cell_type": "code",
   "execution_count": 32,
   "metadata": {},
   "outputs": [],
   "source": [
    "# Ensemble with free kernel from competition\n",
    "kernel_sub = pd.read_csv('kernel_subs/1336_submission.csv')\n",
    "preds_list.append(kernel_sub.pressure.values)\n",
    "kernel_sub = pd.read_csv('kernel_subs/1348_submission.csv')\n",
    "preds_list.append(kernel_sub.pressure.values)\n",
    "kernel_sub = pd.read_csv('kernel_subs/1353_submission.csv')\n",
    "preds_list.append(kernel_sub.pressure.values)\n",
    "kernel_sub = pd.read_csv('kernel_subs/1355_submission.csv')\n",
    "preds_list.append(kernel_sub.pressure.values)\n",
    "kernel_sub = pd.read_csv('kernel_subs/1357_submission.csv')\n",
    "preds_list.append(kernel_sub.pressure.values)\n",
    "preds_ens = np.median(np.vstack(preds_list),axis = 0)\n",
    "\n",
    "test_df['pressure'] = preds_ens\n",
    "test_df = test_df[['id','pressure']]\n",
    "test_df      =  post_processing(test_df,press_min,press_step,press_max,col = 'pressure',method = METHOD_ROUNDING)\n",
    "test_df.to_csv('submission_simple_ensemble_free_kernel.csv',index = False)"
   ]
  },
  {
   "cell_type": "markdown",
   "metadata": {},
   "source": [
    "## Past"
   ]
  },
  {
   "cell_type": "code",
   "execution_count": null,
   "metadata": {},
   "outputs": [],
   "source": [
    "# Ensemble with free kernel from competition\n",
    "kernel_sub = pd.read_csv('kernel_subs/submission_1359.csv')\n",
    "preds_list.append(kernel_sub.pressure.values)\n",
    "kernel_sub = pd.read_csv('kernel_subs/submission_1368.csv')\n",
    "preds_list.append(kernel_sub.pressure.values)\n",
    "kernel_sub = pd.read_csv('kernel_subs/submission_1336.csv')\n",
    "preds_list.append(kernel_sub.pressure.values)\n",
    "preds_ens = np.median(np.vstack(preds_list),axis = 0)\n",
    "\n",
    "test_df['pressure'] = preds_ens\n",
    "test_df = test_df[['id','pressure']]\n",
    "test_df      =  post_processing(test_df,press_min,press_step,press_max,col = 'pressure',method = METHOD_ROUNDING)\n",
    "test_df.to_csv('submission_simple_ensemble_free_kernel.csv',index = False)"
   ]
  },
  {
   "cell_type": "code",
   "execution_count": 6,
   "metadata": {},
   "outputs": [],
   "source": [
    "# Ensemble with free kernel from competition\n",
    "preds_list = []\n",
    "kernel_sub = pd.read_csv('kernel_subs/1336_submission.csv')\n",
    "preds_list.append(kernel_sub.pressure.values)\n",
    "kernel_sub = pd.read_csv('kernel_subs/1348_submission.csv')\n",
    "preds_list.append(kernel_sub.pressure.values)\n",
    "kernel_sub = pd.read_csv('kernel_subs/1353_submission.csv')\n",
    "preds_list.append(kernel_sub.pressure.values)\n",
    "kernel_sub = pd.read_csv('kernel_subs/1355_submission.csv')\n",
    "preds_list.append(kernel_sub.pressure.values)\n",
    "kernel_sub = pd.read_csv('kernel_subs/1357_submission.csv')\n",
    "preds_list.append(kernel_sub.pressure.values)\n",
    "preds_ens = np.median(np.vstack(preds_list),axis = 0)\n",
    "\n",
    "test_df  = pd.read_csv('../01.Data/test.csv')[['id','u_out']]\n",
    "test_df['pressure'] = preds_ens\n",
    "test_df = test_df[['id','pressure']]\n",
    "test_df      =  post_processing(test_df,press_min,press_step,press_max,col = 'pressure',method = METHOD_ROUNDING)\n",
    "test_df.to_csv('only_kernel_subs.csv',index = False)"
   ]
  }
 ],
 "metadata": {
  "kernelspec": {
   "display_name": "Python 3",
   "language": "python",
   "name": "python3"
  },
  "language_info": {
   "codemirror_mode": {
    "name": "ipython",
    "version": 3
   },
   "file_extension": ".py",
   "mimetype": "text/x-python",
   "name": "python",
   "nbconvert_exporter": "python",
   "pygments_lexer": "ipython3",
   "version": "3.6.9"
  }
 },
 "nbformat": 4,
 "nbformat_minor": 4
}
